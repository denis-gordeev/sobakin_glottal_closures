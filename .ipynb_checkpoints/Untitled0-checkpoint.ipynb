{
 "cells": [
  {
   "cell_type": "markdown",
   "metadata": {},
   "source": [
    "# Загрузка аудио файла"
   ]
  },
  {
   "cell_type": "code",
   "execution_count": 1,
   "metadata": {
    "collapsed": false
   },
   "outputs": [
    {
     "ename": "FileNotFoundError",
     "evalue": "[Errno 2] No such file or directory: '/home/denis/Desktop/temp/sobakin/files/SW-2-18/files/FOURZERO.WAV'",
     "output_type": "error",
     "traceback": [
      "\u001b[0;31m---------------------------------------------------------------------------\u001b[0m",
      "\u001b[0;31mFileNotFoundError\u001b[0m                         Traceback (most recent call last)",
      "\u001b[0;32m<ipython-input-1-94eebf38c359>\u001b[0m in \u001b[0;36m<module>\u001b[0;34m()\u001b[0m\n\u001b[1;32m     18\u001b[0m \u001b[0mOFFSET\u001b[0m \u001b[0;34m=\u001b[0m \u001b[0;36m2\u001b[0m\u001b[0;34m\u001b[0m\u001b[0m\n\u001b[1;32m     19\u001b[0m \u001b[0mAUDIO_FILE\u001b[0m \u001b[0;34m=\u001b[0m \u001b[0;34m'/home/denis/Desktop/temp/sobakin/files/SW-2-18/files/FOURZERO.WAV'\u001b[0m\u001b[0;34m\u001b[0m\u001b[0m\n\u001b[0;32m---> 20\u001b[0;31m \u001b[0mspf\u001b[0m \u001b[0;34m=\u001b[0m \u001b[0mwave\u001b[0m\u001b[0;34m.\u001b[0m\u001b[0mopen\u001b[0m\u001b[0;34m(\u001b[0m\u001b[0mAUDIO_FILE\u001b[0m\u001b[0;34m,\u001b[0m\u001b[0;34m'r'\u001b[0m\u001b[0;34m)\u001b[0m\u001b[0;34m\u001b[0m\u001b[0m\n\u001b[0m\u001b[1;32m     21\u001b[0m \u001b[0;34m\u001b[0m\u001b[0m\n\u001b[1;32m     22\u001b[0m \u001b[0;31m#Получение отсчетов аудио сигнала из файла\u001b[0m\u001b[0;34m\u001b[0m\u001b[0;34m\u001b[0m\u001b[0m\n",
      "\u001b[0;32m/usr/lib/python3.4/wave.py\u001b[0m in \u001b[0;36mopen\u001b[0;34m(f, mode)\u001b[0m\n\u001b[1;32m    495\u001b[0m             \u001b[0mmode\u001b[0m \u001b[0;34m=\u001b[0m \u001b[0;34m'rb'\u001b[0m\u001b[0;34m\u001b[0m\u001b[0m\n\u001b[1;32m    496\u001b[0m     \u001b[0;32mif\u001b[0m \u001b[0mmode\u001b[0m \u001b[0;32min\u001b[0m \u001b[0;34m(\u001b[0m\u001b[0;34m'r'\u001b[0m\u001b[0;34m,\u001b[0m \u001b[0;34m'rb'\u001b[0m\u001b[0;34m)\u001b[0m\u001b[0;34m:\u001b[0m\u001b[0;34m\u001b[0m\u001b[0m\n\u001b[0;32m--> 497\u001b[0;31m         \u001b[0;32mreturn\u001b[0m \u001b[0mWave_read\u001b[0m\u001b[0;34m(\u001b[0m\u001b[0mf\u001b[0m\u001b[0;34m)\u001b[0m\u001b[0;34m\u001b[0m\u001b[0m\n\u001b[0m\u001b[1;32m    498\u001b[0m     \u001b[0;32melif\u001b[0m \u001b[0mmode\u001b[0m \u001b[0;32min\u001b[0m \u001b[0;34m(\u001b[0m\u001b[0;34m'w'\u001b[0m\u001b[0;34m,\u001b[0m \u001b[0;34m'wb'\u001b[0m\u001b[0;34m)\u001b[0m\u001b[0;34m:\u001b[0m\u001b[0;34m\u001b[0m\u001b[0m\n\u001b[1;32m    499\u001b[0m         \u001b[0;32mreturn\u001b[0m \u001b[0mWave_write\u001b[0m\u001b[0;34m(\u001b[0m\u001b[0mf\u001b[0m\u001b[0;34m)\u001b[0m\u001b[0;34m\u001b[0m\u001b[0m\n",
      "\u001b[0;32m/usr/lib/python3.4/wave.py\u001b[0m in \u001b[0;36m__init__\u001b[0;34m(self, f)\u001b[0m\n\u001b[1;32m    157\u001b[0m         \u001b[0mself\u001b[0m\u001b[0;34m.\u001b[0m\u001b[0m_i_opened_the_file\u001b[0m \u001b[0;34m=\u001b[0m \u001b[0;32mNone\u001b[0m\u001b[0;34m\u001b[0m\u001b[0m\n\u001b[1;32m    158\u001b[0m         \u001b[0;32mif\u001b[0m \u001b[0misinstance\u001b[0m\u001b[0;34m(\u001b[0m\u001b[0mf\u001b[0m\u001b[0;34m,\u001b[0m \u001b[0mstr\u001b[0m\u001b[0;34m)\u001b[0m\u001b[0;34m:\u001b[0m\u001b[0;34m\u001b[0m\u001b[0m\n\u001b[0;32m--> 159\u001b[0;31m             \u001b[0mf\u001b[0m \u001b[0;34m=\u001b[0m \u001b[0mbuiltins\u001b[0m\u001b[0;34m.\u001b[0m\u001b[0mopen\u001b[0m\u001b[0;34m(\u001b[0m\u001b[0mf\u001b[0m\u001b[0;34m,\u001b[0m \u001b[0;34m'rb'\u001b[0m\u001b[0;34m)\u001b[0m\u001b[0;34m\u001b[0m\u001b[0m\n\u001b[0m\u001b[1;32m    160\u001b[0m             \u001b[0mself\u001b[0m\u001b[0;34m.\u001b[0m\u001b[0m_i_opened_the_file\u001b[0m \u001b[0;34m=\u001b[0m \u001b[0mf\u001b[0m\u001b[0;34m\u001b[0m\u001b[0m\n\u001b[1;32m    161\u001b[0m         \u001b[0;31m# else, assume it is an open file object already\u001b[0m\u001b[0;34m\u001b[0m\u001b[0;34m\u001b[0m\u001b[0m\n",
      "\u001b[0;31mFileNotFoundError\u001b[0m: [Errno 2] No such file or directory: '/home/denis/Desktop/temp/sobakin/files/SW-2-18/files/FOURZERO.WAV'"
     ]
    }
   ],
   "source": [
    "import IPython\n",
    "import numpy as np\n",
    "import wave\n",
    "import sys\n",
    "import scipy\n",
    "\n",
    "import scipy.io.wavfile\n",
    "\n",
    "%matplotlib inline\n",
    "import matplotlib.pyplot as plt\n",
    "from scipy.signal import lfilter, firwin\n",
    "\n",
    "\n",
    "MATRIX_RANGE = 3\n",
    "FORMANTS = 5\n",
    "VECTORS = 5\n",
    "STEP = 5\n",
    "OFFSET = 2\n",
    "AUDIO_FILE = '/home/denis/Desktop/temp/sobakin/files/SW-2-18/files/FOURZERO.WAV'\n",
    "spf = wave.open(AUDIO_FILE,'r')\n",
    "\n",
    "#Получение отсчетов аудио сигнала из файла\n",
    "signal = spf.readframes(-1)\n",
    "signal = np.fromstring(signal, 'Int16')\n",
    "fs = spf.getframerate()\n",
    "#If Stereo\n",
    "if spf.getnchannels() == 2:\n",
    "    print('Just mono files')\n",
    "    sys.exit(0)\n",
    "\n",
    "\n",
    "Time=np.linspace(0, len(signal)/fs, num=len(signal))\n",
    "fig, (ax1,ax2) = plt.subplots(1,2, figsize=(12,4))\n",
    "\n",
    "ax1.set_title(u'Осциллограмма')\n",
    "ax1.plot(Time,signal)\n",
    "ax2.set_title(u'Спектрограмма')\n",
    "ax2.specgram(signal)\n",
    "\n",
    "IPython.display.Audio(AUDIO_FILE)\n"
   ]
  },
  {
   "cell_type": "markdown",
   "metadata": {},
   "source": [
    "## Нормирование сигнала"
   ]
  },
  {
   "cell_type": "code",
   "execution_count": null,
   "metadata": {
    "collapsed": false
   },
   "outputs": [],
   "source": [
    "#Нормирование сигнала\n",
    "signal_old = signal\n",
    "signal_new = abs(signal)\n",
    "average = sum(signal_new)/signal.size\n",
    "signal = signal/average\n",
    "\n",
    "fig, (ax1,ax2) = plt.subplots(1,2, figsize=(12,4))\n",
    "\n",
    "ax1.set_title(u'Спектрограмма нового сигнала')\n",
    "ax1.specgram(signal)\n",
    "ax2.set_title(u'Спектрограмма старого сигнала')\n",
    "ax2.specgram(signal_old)\n",
    "del signal_old"
   ]
  },
  {
   "cell_type": "markdown",
   "metadata": {},
   "source": [
    "# Функции"
   ]
  },
  {
   "cell_type": "code",
   "execution_count": null,
   "metadata": {
    "collapsed": true
   },
   "outputs": [],
   "source": [
    "def stft(input_data, sample_rate, window_size, hop_size):\n",
    "    window = scipy.hamming(window_size)\n",
    "    output = scipy.array([scipy.fft(window*input_data[i:i+window_size]) \n",
    "                         for i in range(0, len(input_data)-window_size, hop_size)])\n",
    "    return output\n",
    "\n",
    "def istft(input_data, sample_rate, window_size, hop_size, total_time):\n",
    "    output = scipy.zeros(total_time*sample_rate)\n",
    "    for n,i in enumerate(range(0, len(output)-window_size, hop_size)):\n",
    "        output[i:i+window_size] += scipy.real(scipy.ifft(input_data[n]))\n",
    "    return output\n",
    "\n",
    "def low_pass_filter(max_freq, window_size, sample_rate):\n",
    "    fft_bin_width = sample_rate / window_size\n",
    "    max_freq_bin = max_freq / fft_bin_width\n",
    "    filter_block = np.ones(window_size)\n",
    "    filter_block[max_freq_bin:(window_size-max_freq_bin)] = 0\n",
    "    return filter_block\n",
    "\n",
    "def high_pass_filter(min_freq, window_size, sample_rate):\n",
    "    return np.ones(window_size) - low_pass_filter(min_freq, window_size, sample_rate)\n",
    "\n",
    "def write_audio_file(filename, filedata, sample_rate):\n",
    "    scipy.io.wavfile.write(filename, sample_rate, filedata)\n",
    "\n",
    "def filter_audio(input_signal, sample_rate, filter_window, window_size=256):\n",
    "    # Setting parameters\n",
    "    hop_size = window_size // 2\n",
    "    total_time = len(input_signal) / sample_rate\n",
    "    \n",
    "    # Do actual filtering\n",
    "    stft_output = stft(input_signal, sample_rate, window_size, hop_size)\n",
    "    filtered_result = [original * filter_window for original in stft_output]\n",
    "    resynth = istft(filtered_result, sample_rate, window_size, hop_size, total_time)\n",
    "    \n",
    "    return resynth\n",
    "\n"
   ]
  },
  {
   "cell_type": "markdown",
   "metadata": {},
   "source": [
    "## Фильтрация"
   ]
  },
  {
   "cell_type": "code",
   "execution_count": null,
   "metadata": {
    "collapsed": false
   },
   "outputs": [],
   "source": [
    "window_size = 256\n",
    "\n",
    "# Input\n",
    "\n",
    "# Create filter window\n",
    "filter_window = high_pass_filter(300, window_size, fs)\n",
    "\n",
    "# Run filter\n",
    "signal = filter_audio(signal, fs, filter_window, window_size)\n",
    "\n",
    "fig, (ax1,ax2) = plt.subplots(1,2, figsize=(12,4))\n",
    "ax1.set_title(u'Осциллограмма после фильтра высоких частот')\n",
    "ax1.plot(signal)\n",
    "ax2.set_title(u'Спектрограмма')\n",
    "ax2.specgram(signal)\n",
    "x=1\n",
    "\n",
    "\n",
    "\n",
    "filter_window = low_pass_filter(3400, window_size, fs)\n",
    "signal = filter_audio(signal, fs, filter_window, window_size)\n",
    "\n",
    "fig, (ax1,ax2) = plt.subplots(1,2, figsize=(12,4))\n",
    "ax1.set_title(u'Осциллограмма после фильтра низких частот')\n",
    "ax1.plot(signal)\n",
    "ax2.set_title(u'Спектрограмма')\n",
    "ax2.specgram(signal)\n",
    "x=1"
   ]
  },
  {
   "cell_type": "markdown",
   "metadata": {
    "collapsed": true
   },
   "source": [
    "## Вычисление автокорреляционной матрицы"
   ]
  },
  {
   "cell_type": "code",
   "execution_count": null,
   "metadata": {
    "collapsed": false
   },
   "outputs": [],
   "source": [
    "#Организация циклов для вычисления значений функции D\n",
    "#length = signal.size-(WINDOW + FORMANTS + (FORMANTS-1) * OFFSET)-1\n",
    "\n",
    "#Подсчет автокорреляционной матрицы для каждого отсчета.\n",
    "values = []\n",
    "limit = signal.size - (WINDOW + FORMANTS)\n",
    "for s in range(len(signal)- limit):\n",
    "\tvectors = []\n",
    "\tfor i in range(FORMANTS):\n",
    "\t\tvectors.append(signal[s+i:s+i+WINDOW])\n",
    "\tautocorr_matrix = np.zeros((FORMANTS, FORMANTS))\n",
    "\tfor i in range(FORMANTS):\n",
    "\t\tfor j in range(FORMANTS):\n",
    "\t\t\tautocorr_matrix[i][j] = np.dot(vectors[i], vectors[j])\n",
    "\tdeterminant = np.linalg.det(autocorr_matrix)\n",
    "\tvalues.append(determinant)\n",
    "\n",
    "\n",
    "Time=np.linspace(0, len(values)/fs, num=len(values))\n",
    "\n",
    "plt.figure(1)\n",
    "plt.title(u'Сигнал...')\n",
    "plt.plot(Time,values)\n",
    "plt.show()"
   ]
  }
 ],
 "metadata": {
  "kernelspec": {
   "display_name": "IPython (Python 3)",
   "language": "python",
   "name": "python3"
  },
  "language_info": {
   "codemirror_mode": {
    "name": "ipython",
    "version": 3
   },
   "file_extension": ".py",
   "mimetype": "text/x-python",
   "name": "python",
   "nbconvert_exporter": "python",
   "pygments_lexer": "ipython3",
   "version": "3.4.3"
  }
 },
 "nbformat": 4,
 "nbformat_minor": 0
}
